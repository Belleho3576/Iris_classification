{
 "cells": [
  {
   "cell_type": "code",
   "execution_count": 48,
   "id": "e1a1b019-40e2-49c7-b144-2faa5ba8b743",
   "metadata": {},
   "outputs": [],
   "source": [
    "import tensorflow as tf\n",
    "import numpy as np \n",
    "import matplotlib.pyplot as plt\n",
    "import pandas as pd\n",
    "from sklearn import preprocessing \n",
    "le = preprocessing.LabelEncoder()\n",
    "from sklearn.model_selection import train_test_split\n",
    "from sklearn.linear_model import LogisticRegression \n",
    "from sklearn.model_selection import cross_val_score \n",
    "from matplotlib import pyplot as plt\n",
    "import numpy as np\n",
    "\n",
    "from sklearn.ensemble import RandomForestClassifier\n",
    "from sklearn.metrics import confusion_matrix\n",
    "from sklearn.ensemble import GradientBoostingClassifier\n"
   ]
  },
  {
   "cell_type": "code",
   "execution_count": 212,
   "id": "0281124b-6979-44fd-9641-ea8406c4bf29",
   "metadata": {},
   "outputs": [],
   "source": [
    "import random\n",
    "random.seed(123456)"
   ]
  },
  {
   "cell_type": "code",
   "execution_count": 53,
   "id": "c5dbccd5-fd6c-4c1a-9e38-cfc22b341405",
   "metadata": {},
   "outputs": [],
   "source": [
    "iris = pd.read_csv(\"/Users/belleho/Downloads/IRIS.csv\")"
   ]
  },
  {
   "cell_type": "code",
   "execution_count": 59,
   "id": "e3e6b98b-cdde-4980-8656-ca7f2dbdd4ab",
   "metadata": {},
   "outputs": [
    {
     "data": {
      "text/html": [
       "<div>\n",
       "<style scoped>\n",
       "    .dataframe tbody tr th:only-of-type {\n",
       "        vertical-align: middle;\n",
       "    }\n",
       "\n",
       "    .dataframe tbody tr th {\n",
       "        vertical-align: top;\n",
       "    }\n",
       "\n",
       "    .dataframe thead th {\n",
       "        text-align: right;\n",
       "    }\n",
       "</style>\n",
       "<table border=\"1\" class=\"dataframe\">\n",
       "  <thead>\n",
       "    <tr style=\"text-align: right;\">\n",
       "      <th></th>\n",
       "      <th>sepal_length</th>\n",
       "      <th>sepal_width</th>\n",
       "      <th>petal_length</th>\n",
       "      <th>petal_width</th>\n",
       "      <th>species</th>\n",
       "    </tr>\n",
       "  </thead>\n",
       "  <tbody>\n",
       "    <tr>\n",
       "      <th>80</th>\n",
       "      <td>5.5</td>\n",
       "      <td>2.4</td>\n",
       "      <td>3.8</td>\n",
       "      <td>1.1</td>\n",
       "      <td>Iris-versicolor</td>\n",
       "    </tr>\n",
       "    <tr>\n",
       "      <th>113</th>\n",
       "      <td>5.7</td>\n",
       "      <td>2.5</td>\n",
       "      <td>5.0</td>\n",
       "      <td>2.0</td>\n",
       "      <td>Iris-virginica</td>\n",
       "    </tr>\n",
       "    <tr>\n",
       "      <th>111</th>\n",
       "      <td>6.4</td>\n",
       "      <td>2.7</td>\n",
       "      <td>5.3</td>\n",
       "      <td>1.9</td>\n",
       "      <td>Iris-virginica</td>\n",
       "    </tr>\n",
       "    <tr>\n",
       "      <th>67</th>\n",
       "      <td>5.8</td>\n",
       "      <td>2.7</td>\n",
       "      <td>4.1</td>\n",
       "      <td>1.0</td>\n",
       "      <td>Iris-versicolor</td>\n",
       "    </tr>\n",
       "    <tr>\n",
       "      <th>130</th>\n",
       "      <td>7.4</td>\n",
       "      <td>2.8</td>\n",
       "      <td>6.1</td>\n",
       "      <td>1.9</td>\n",
       "      <td>Iris-virginica</td>\n",
       "    </tr>\n",
       "    <tr>\n",
       "      <th>...</th>\n",
       "      <td>...</td>\n",
       "      <td>...</td>\n",
       "      <td>...</td>\n",
       "      <td>...</td>\n",
       "      <td>...</td>\n",
       "    </tr>\n",
       "    <tr>\n",
       "      <th>79</th>\n",
       "      <td>5.7</td>\n",
       "      <td>2.6</td>\n",
       "      <td>3.5</td>\n",
       "      <td>1.0</td>\n",
       "      <td>Iris-versicolor</td>\n",
       "    </tr>\n",
       "    <tr>\n",
       "      <th>59</th>\n",
       "      <td>5.2</td>\n",
       "      <td>2.7</td>\n",
       "      <td>3.9</td>\n",
       "      <td>1.4</td>\n",
       "      <td>Iris-versicolor</td>\n",
       "    </tr>\n",
       "    <tr>\n",
       "      <th>133</th>\n",
       "      <td>6.3</td>\n",
       "      <td>2.8</td>\n",
       "      <td>5.1</td>\n",
       "      <td>1.5</td>\n",
       "      <td>Iris-virginica</td>\n",
       "    </tr>\n",
       "    <tr>\n",
       "      <th>123</th>\n",
       "      <td>6.3</td>\n",
       "      <td>2.7</td>\n",
       "      <td>4.9</td>\n",
       "      <td>1.8</td>\n",
       "      <td>Iris-virginica</td>\n",
       "    </tr>\n",
       "    <tr>\n",
       "      <th>92</th>\n",
       "      <td>5.8</td>\n",
       "      <td>2.6</td>\n",
       "      <td>4.0</td>\n",
       "      <td>1.2</td>\n",
       "      <td>Iris-versicolor</td>\n",
       "    </tr>\n",
       "  </tbody>\n",
       "</table>\n",
       "<p>120 rows × 5 columns</p>\n",
       "</div>"
      ],
      "text/plain": [
       "     sepal_length  sepal_width  petal_length  petal_width          species\n",
       "80            5.5          2.4           3.8          1.1  Iris-versicolor\n",
       "113           5.7          2.5           5.0          2.0   Iris-virginica\n",
       "111           6.4          2.7           5.3          1.9   Iris-virginica\n",
       "67            5.8          2.7           4.1          1.0  Iris-versicolor\n",
       "130           7.4          2.8           6.1          1.9   Iris-virginica\n",
       "..            ...          ...           ...          ...              ...\n",
       "79            5.7          2.6           3.5          1.0  Iris-versicolor\n",
       "59            5.2          2.7           3.9          1.4  Iris-versicolor\n",
       "133           6.3          2.8           5.1          1.5   Iris-virginica\n",
       "123           6.3          2.7           4.9          1.8   Iris-virginica\n",
       "92            5.8          2.6           4.0          1.2  Iris-versicolor\n",
       "\n",
       "[120 rows x 5 columns]"
      ]
     },
     "execution_count": 59,
     "metadata": {},
     "output_type": "execute_result"
    }
   ],
   "source": [
    "train, test = train_test_split(iris, test_size = 0.2)"
   ]
  },
  {
   "cell_type": "code",
   "execution_count": 55,
   "id": "af396af0-aabe-4d7a-85dd-a1dcffac2925",
   "metadata": {},
   "outputs": [],
   "source": [
    "#encoding the data \n",
    "def encode(df):\n",
    "    df[\"species\"] = le.fit_transform(df[\"species\"])\n",
    "    return df "
   ]
  },
  {
   "cell_type": "code",
   "execution_count": 60,
   "id": "5a87bf15-c8aa-4792-967b-2eb3de8038ec",
   "metadata": {},
   "outputs": [
    {
     "data": {
      "image/png": "[encoded data removed]",
      "text/plain": [
       "<Figure size 432x288 with 1 Axes>"
      ]
     },
     "metadata": {
      "needs_background": "light"
     },
     "output_type": "display_data"
    }
   ],
   "source": [
    "fig, ax = plt.subplots(1) \n",
    "ax.set(xlabel = \"petal_length\", ylabel = \"petal_width\") \n",
    "#  ax.scatter(iris_1['sepal_length'],iris['Culmen Depth (mm)']) \n",
    "\n",
    "iris_s = set(train['species']) \n",
    "for s in iris_s: \n",
    "        label = s.split(\"-\")[1] \n",
    "        training_subspecies = train[train['species'] == s] \n",
    "        ax.scatter(training_subspecies['petal_length'], training_subspecies['petal_width'],\n",
    "                   label = label, alpha = 0.8)\n",
    "\n",
    "ax.legend() \n",
    "plt.show()"
   ]
  },
  {
   "cell_type": "code",
   "execution_count": 64,
   "id": "dddfdbf8-855c-438b-af8f-2bb7cc45d441",
   "metadata": {},
   "outputs": [
    {
     "data": {
      "text/plain": [
       "sepal_length    0.774506\n",
       "sepal_width    -0.450079\n",
       "petal_length    0.950525\n",
       "petal_width     0.957517\n",
       "species         1.000000\n",
       "Name: species, dtype: float64"
      ]
     },
     "execution_count": 64,
     "metadata": {},
     "output_type": "execute_result"
    }
   ],
   "source": [
    "train = encode(train)\n",
    "test = encode(test)\n",
    "train.corr()[\"species\"]"
   ]
  },
  {
   "cell_type": "code",
   "execution_count": 72,
   "id": "624a39ad-8d69-4423-a0b3-d09a69f13517",
   "metadata": {},
   "outputs": [],
   "source": [
    "#seems like sepal length, petal length, and petal width are the features to go for - model buidling \n",
    "X_train_lR = train[train.columns[[0,2,3]]]\n",
    "y_train_lR = train[\"species\"] \n",
    "\n",
    "X_test_lR = test[test.columns[[0, 2, 3]]]\n",
    "y_test_lR = test[\"species\"] "
   ]
  },
  {
   "cell_type": "code",
   "execution_count": 77,
   "id": "4fc7eabf-1b03-4bb6-b0ca-16b8c6da7fa9",
   "metadata": {},
   "outputs": [
    {
     "name": "stdout",
     "output_type": "stream",
     "text": [
      "Best CV: 0.95\n"
     ]
    }
   ],
   "source": [
    "best_cv = 0\n",
    "best_complex = 0\n",
    "    \n",
    "for d in np.arange(0.72,0.73,0.0001):\n",
    "    LR = LogisticRegression(multi_class = 'multinomial', C = d, solver = 'lbfgs', max_iter = 1000)\n",
    "            \n",
    "    mean_cv = cross_val_score(LR, X_train_lR, y_train_lR, cv = 10).mean()\n",
    "        \n",
    "    if mean_cv > best_cv:\n",
    "        best_cv = mean_cv\n",
    "        best_complex = d\n",
    "            \n",
    "    ax.scatter(d, mean_cv)\n",
    "    \n",
    "    ax.set(title = \"Best complexity: \"+ str(round(best_complex, 3)), \n",
    "           xlabel = \"Complexity\", ylabel = \"CV score\")\n",
    "    \n",
    "print('Best CV:', np.round(best_cv, 3))"
   ]
  },
  {
   "cell_type": "code",
   "execution_count": 87,
   "id": "4302e7d6-6b52-458d-91c7-c50a9114930f",
   "metadata": {},
   "outputs": [],
   "source": [
    "lR = LogisticRegression(multi_class = \"multinomial\", C = best_complex, max_iter = 10000)"
   ]
  },
  {
   "cell_type": "code",
   "execution_count": 88,
   "id": "42f72cd2-8088-412c-a4d2-b7cc087405fb",
   "metadata": {},
   "outputs": [],
   "source": [
    "lR.fit(X_train_lR, y_train_lR)\n",
    "predictions = lR.predict(X_test_lR)"
   ]
  },
  {
   "cell_type": "code",
   "execution_count": 90,
   "id": "89834098-8578-4ebc-ba7c-3263e097b48f",
   "metadata": {},
   "outputs": [
    {
     "name": "stdout",
     "output_type": "stream",
     "text": [
      "Accuracy on training data:  0.958\n",
      "Mean cross validation:  0.95\n",
      "Accuracy on test data: 1.00\n"
     ]
    },
    {
     "data": {
      "text/plain": [
       "array([[ 8,  0,  0],\n",
       "       [ 0, 10,  0],\n",
       "       [ 0,  0, 12]])"
      ]
     },
     "execution_count": 90,
     "metadata": {},
     "output_type": "execute_result"
    }
   ],
   "source": [
    "print(\"Accuracy on training data: \", np.round(lR.score(X_train_lR, y_train_lR), 3))\n",
    "mean_cv_lR = np.round(cross_val_score(lR, X_train_lR, y_train_lR, cv = 5).mean(), 3)\n",
    "print(\"Mean cross validation: \", mean_cv_lR)\n",
    "print('Accuracy on test data: {:.2f}'.format(lR.score(X_test_lR, y_test_lR)))\n",
    "confusion_matrix(predictions, y_test_lR) "
   ]
  },
  {
   "cell_type": "markdown",
   "id": "69e98c44-4e65-40d0-8772-ecf2021e135e",
   "metadata": {},
   "source": [
    "## Deep neural networks "
   ]
  },
  {
   "cell_type": "code",
   "execution_count": 213,
   "id": "04071494-e804-4363-9d4c-a3a201f81101",
   "metadata": {},
   "outputs": [],
   "source": [
    "#maybe we'll try using neural networks. DNN that is. \n",
    "X_train_nn = train[train.columns[[0,1,2,3]]]\n",
    "y_train_nn = train[\"species\"] \n",
    "\n",
    "X_test_nn = test[test.columns[[0,1, 2, 3]]]\n",
    "y_test_nn = test[\"species\"] "
   ]
  },
  {
   "cell_type": "code",
   "execution_count": 227,
   "id": "6d0a09ca-77f5-45fb-93b2-afbabd826819",
   "metadata": {},
   "outputs": [],
   "source": [
    "#build the model \n",
    "# model = Sequential()\n",
    "\n",
    "# model.add(Dense(10, input_shape=(4,), activation='relu', name='fc1'))\n",
    "# model.add(Dense(10, activation='relu', name='fc2'))\n",
    "# model.add(Dense(3, activation='softmax', name='output'))\n",
    "\n",
    "# # Adam optimizer with learning rate of 0.001\n",
    "# optimizer = Adam(lr=0.001)\n",
    "# model.compile(optimizer, loss='categorical_crossentropy', metrics=['accuracy'])\n",
    "\n",
    "model = tf.keras.models.Sequential()\n",
    "model.add(tf.keras.layers.Dense(4, input_shape = (4,), activation = \"relu\", name = \"h1\"))\n",
    "model.add(tf.keras.layers.Dense(100, activation = \"relu\", name = \"h2\"))\n",
    "model.add(tf.keras.layers.Dense(10, activation = \"relu\", name = \"h3\"))\n",
    "model.add(tf.keras.layers.Dense(3, activation=tf.nn.softmax, name = \"output\")) "
   ]
  },
  {
   "cell_type": "code",
   "execution_count": 228,
   "id": "273cfdc0-8316-4c98-8462-b8462ec200c4",
   "metadata": {},
   "outputs": [],
   "source": [
    "# optimizer = tf.keras.optimizers.Adam(learning_rate = 0.0001)\n",
    "model.compile(optimizer = \"adam\", loss = 'sparse_categorical_crossentropy', \n",
    "             metrics = ['accuracy'])"
   ]
  },
  {
   "cell_type": "markdown",
   "id": "94ed2e95-6ef5-4663-a3a1-e0cb04badfbd",
   "metadata": {},
   "source": [
    "questions: \n",
    "- input shape I don't understand\n",
    "- why did we put 100 units down \n",
    "- learning rate too small also causes a drop in performance? "
   ]
  },
  {
   "cell_type": "code",
   "execution_count": 229,
   "id": "3e2650bf-0bc7-4ab7-8525-0ec7236cc921",
   "metadata": {},
   "outputs": [
    {
     "name": "stdout",
     "output_type": "stream",
     "text": [
      "Epoch 1/20\n",
      "4/4 [==============================] - 0s 2ms/step - loss: 1.3299 - accuracy: 0.3333\n",
      "Epoch 2/20\n",
      "4/4 [==============================] - 0s 2ms/step - loss: 1.0628 - accuracy: 0.3333\n",
      "Epoch 3/20\n",
      "4/4 [==============================] - 0s 2ms/step - loss: 0.9806 - accuracy: 0.3167\n",
      "Epoch 4/20\n",
      "4/4 [==============================] - 0s 1ms/step - loss: 0.9353 - accuracy: 0.3167\n",
      "Epoch 5/20\n",
      "4/4 [==============================] - 0s 1ms/step - loss: 0.9040 - accuracy: 0.3167\n",
      "Epoch 6/20\n",
      "4/4 [==============================] - 0s 1ms/step - loss: 0.8787 - accuracy: 0.3167\n",
      "Epoch 7/20\n",
      "4/4 [==============================] - 0s 1ms/step - loss: 0.8575 - accuracy: 0.3500\n",
      "Epoch 8/20\n",
      "4/4 [==============================] - 0s 1ms/step - loss: 0.8378 - accuracy: 0.4583\n",
      "Epoch 9/20\n",
      "4/4 [==============================] - 0s 1ms/step - loss: 0.8224 - accuracy: 0.5667\n",
      "Epoch 10/20\n",
      "4/4 [==============================] - 0s 1ms/step - loss: 0.8082 - accuracy: 0.5583\n",
      "Epoch 11/20\n",
      "4/4 [==============================] - 0s 1ms/step - loss: 0.7924 - accuracy: 0.7083\n",
      "Epoch 12/20\n",
      "4/4 [==============================] - 0s 1ms/step - loss: 0.7797 - accuracy: 0.7833\n",
      "Epoch 13/20\n",
      "4/4 [==============================] - 0s 1ms/step - loss: 0.7636 - accuracy: 0.8333\n",
      "Epoch 14/20\n",
      "4/4 [==============================] - 0s 1ms/step - loss: 0.7594 - accuracy: 0.8000\n",
      "Epoch 15/20\n",
      "4/4 [==============================] - 0s 1ms/step - loss: 0.7381 - accuracy: 0.8500\n",
      "Epoch 16/20\n",
      "4/4 [==============================] - 0s 1ms/step - loss: 0.7313 - accuracy: 0.8583\n",
      "Epoch 17/20\n",
      "4/4 [==============================] - 0s 1ms/step - loss: 0.7178 - accuracy: 0.9083\n",
      "Epoch 18/20\n",
      "4/4 [==============================] - 0s 1ms/step - loss: 0.7036 - accuracy: 0.9250\n",
      "Epoch 19/20\n",
      "4/4 [==============================] - 0s 1ms/step - loss: 0.6893 - accuracy: 0.9417\n",
      "Epoch 20/20\n",
      "4/4 [==============================] - 0s 1ms/step - loss: 0.6762 - accuracy: 0.9500\n"
     ]
    },
    {
     "data": {
      "text/plain": [
       "<keras.callbacks.History at 0x7f857384a850>"
      ]
     },
     "execution_count": 229,
     "metadata": {},
     "output_type": "execute_result"
    }
   ],
   "source": [
    "model.fit(X_train_nn, y_train_nn, epochs = 20)"
   ]
  },
  {
   "cell_type": "code",
   "execution_count": 252,
   "id": "ca3321ad-2834-47f3-a32f-49182071a263",
   "metadata": {},
   "outputs": [
    {
     "name": "stdout",
     "output_type": "stream",
     "text": [
      "1/1 [==============================] - 0s 15ms/step\n"
     ]
    }
   ],
   "source": [
    "# predict for the first 10 observations \n",
    "pred = model.predict(X_test_nn)"
   ]
  },
  {
   "cell_type": "code",
   "execution_count": 240,
   "id": "dfd72af5-4036-4586-bd23-0794c5198557",
   "metadata": {},
   "outputs": [
    {
     "name": "stdout",
     "output_type": "stream",
     "text": [
      "[1 2 0 1 2 1 2 2 1 2 2 0 1 2 2 0 2 2 1 1 0 1 2 1 0 2 1 1 1 1]\n",
      "[1, 2, 0, 1, 2, 1, 2, 2, 0, 2, 2, 0, 1, 2, 2, 0, 2, 2, 1, 1, 0, 1, 2, 1, 0, 2, 0, 1, 1, 0]\n"
     ]
    }
   ],
   "source": [
    "print(np.argmax(pred, axis = 1)) #columns \n",
    "print(list(y_test_nn[:50]))"
   ]
  },
  {
   "cell_type": "code",
   "execution_count": 242,
   "id": "bc68596c-812b-4a3b-9251-4fe7df3d6d88",
   "metadata": {},
   "outputs": [
    {
     "name": "stdout",
     "output_type": "stream",
     "text": [
      "1/1 [==============================] - 0s 96ms/step - loss: 0.6139 - accuracy: 0.9000\n"
     ]
    },
    {
     "data": {
      "text/plain": [
       "[0.6139429211616516, 0.8999999761581421]"
      ]
     },
     "execution_count": 242,
     "metadata": {},
     "output_type": "execute_result"
    }
   ],
   "source": [
    "model.evaluate(X_test_nn, y_test_nn)"
   ]
  },
  {
   "cell_type": "code",
   "execution_count": 257,
   "id": "441ab2dd-9fe8-4e6b-8698-d2b84b8698f1",
   "metadata": {},
   "outputs": [],
   "source": [
    "predict = np.argmax(pred, axis = 1)"
   ]
  },
  {
   "cell_type": "code",
   "execution_count": 258,
   "id": "a0d0bd0a-6d90-4521-b609-b3a043087b49",
   "metadata": {},
   "outputs": [
    {
     "data": {
      "text/plain": [
       "array([[ 5,  0,  0],\n",
       "       [ 3, 10,  0],\n",
       "       [ 0,  0, 12]])"
      ]
     },
     "execution_count": 258,
     "metadata": {},
     "output_type": "execute_result"
    }
   ],
   "source": [
    "confusion_matrix(predict, y_test_nn)"
   ]
  },
  {
   "cell_type": "code",
   "execution_count": 276,
   "id": "2aba56bd-f170-4b50-86b8-1e2d4ff0d82f",
   "metadata": {},
   "outputs": [
    {
     "name": "stdout",
     "output_type": "stream",
     "text": [
      "Predicted Class:1 Name:versicolor\n",
      "Predicted Class:2 Name:virginica\n",
      "Predicted Class:0 Name:setosa\n",
      "Predicted Class:1 Name:versicolor\n",
      "Predicted Class:2 Name:virginica\n",
      "Predicted Class:1 Name:versicolor\n",
      "Predicted Class:2 Name:virginica\n",
      "Predicted Class:2 Name:virginica\n",
      "Predicted Class:1 Name:versicolor\n",
      "Predicted Class:2 Name:virginica\n",
      "Predicted Class:2 Name:virginica\n",
      "Predicted Class:0 Name:setosa\n",
      "Predicted Class:1 Name:versicolor\n",
      "Predicted Class:2 Name:virginica\n",
      "Predicted Class:2 Name:virginica\n",
      "Predicted Class:0 Name:setosa\n",
      "Predicted Class:2 Name:virginica\n",
      "Predicted Class:2 Name:virginica\n",
      "Predicted Class:1 Name:versicolor\n",
      "Predicted Class:1 Name:versicolor\n",
      "Predicted Class:0 Name:setosa\n",
      "Predicted Class:1 Name:versicolor\n",
      "Predicted Class:2 Name:virginica\n",
      "Predicted Class:1 Name:versicolor\n",
      "Predicted Class:0 Name:setosa\n",
      "Predicted Class:2 Name:virginica\n",
      "Predicted Class:1 Name:versicolor\n",
      "Predicted Class:1 Name:versicolor\n",
      "Predicted Class:1 Name:versicolor\n",
      "Predicted Class:1 Name:versicolor\n"
     ]
    }
   ],
   "source": [
    "dict = {0: \"setosa\", 1: \"versicolor\", 2: \"virginica\"}\n",
    "for i in predict:\n",
    "        print(\"Predicted Class:\" + str(i) + \" Name:\" + str(dict[i]))\n"
   ]
  },
  {
   "cell_type": "code",
   "execution_count": 278,
   "id": "d30a90a7-c3f8-4704-9260-2248983b53ab",
   "metadata": {},
   "outputs": [
    {
     "name": "stdout",
     "output_type": "stream",
     "text": [
      "Actual Class:1 Name:versicolor\n",
      "Actual Class:2 Name:virginica\n",
      "Actual Class:0 Name:setosa\n",
      "Actual Class:1 Name:versicolor\n",
      "Actual Class:2 Name:virginica\n",
      "Actual Class:1 Name:versicolor\n",
      "Actual Class:2 Name:virginica\n",
      "Actual Class:2 Name:virginica\n",
      "Actual Class:0 Name:setosa\n",
      "Actual Class:2 Name:virginica\n",
      "Actual Class:2 Name:virginica\n",
      "Actual Class:0 Name:setosa\n",
      "Actual Class:1 Name:versicolor\n",
      "Actual Class:2 Name:virginica\n",
      "Actual Class:2 Name:virginica\n",
      "Actual Class:0 Name:setosa\n",
      "Actual Class:2 Name:virginica\n",
      "Actual Class:2 Name:virginica\n",
      "Actual Class:1 Name:versicolor\n",
      "Actual Class:1 Name:versicolor\n",
      "Actual Class:0 Name:setosa\n",
      "Actual Class:1 Name:versicolor\n",
      "Actual Class:2 Name:virginica\n",
      "Actual Class:1 Name:versicolor\n",
      "Actual Class:0 Name:setosa\n",
      "Actual Class:2 Name:virginica\n",
      "Actual Class:0 Name:setosa\n",
      "Actual Class:1 Name:versicolor\n",
      "Actual Class:1 Name:versicolor\n",
      "Actual Class:0 Name:setosa\n"
     ]
    }
   ],
   "source": [
    "for j in y_test_nn:\n",
    "        print(\"Actual Class:\" + str(j) + \" Name:\" + str(dict[j]))\n"
   ]
  }
 ],
 "metadata": {
  "kernelspec": {
   "display_name": "Python 3 (ipykernel)",
   "language": "python",
   "name": "python3"
  },
  "language_info": {
   "codemirror_mode": {
    "name": "ipython",
    "version": 3
   },
   "file_extension": ".py",
   "mimetype": "text/x-python",
   "name": "python",
   "nbconvert_exporter": "python",
   "pygments_lexer": "ipython3",
   "version": "3.9.12"
  }
 },
 "nbformat": 4,
 "nbformat_minor": 5
}
